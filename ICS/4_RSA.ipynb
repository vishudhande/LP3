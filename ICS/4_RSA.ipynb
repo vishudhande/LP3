{
 "cells": [
  {
   "cell_type": "markdown",
   "metadata": {},
   "source": [
    "####  Implementation of RSA."
   ]
  },
  {
   "cell_type": "code",
   "execution_count": 1,
   "metadata": {},
   "outputs": [],
   "source": [
    "import math"
   ]
  },
  {
   "cell_type": "code",
   "execution_count": 3,
   "metadata": {},
   "outputs": [
    {
     "name": "stdout",
     "output_type": "stream",
     "text": [
      "Enter the message to be encrypted: 20\n",
      "Original Message is:  20\n",
      "Encrypted Message is:  69.0\n"
     ]
    }
   ],
   "source": [
    "# Getting the input message\n",
    "message = int(input(\"Enter the message to be encrypted: \")) \n",
    "\n",
    "p = 11\n",
    "q = 7\n",
    "e = 3\n",
    " \n",
    "n = p*q\n",
    "\n",
    "def encrypt(me):\n",
    "    en = math.pow(me,e)\n",
    "    c = en % n\n",
    "    print(\"Encrypted Message is: \", c)\n",
    "    return c\n",
    " \n",
    "print(\"Original Message is: \", message)\n",
    "c = encrypt(message)\n"
   ]
  },
  {
   "cell_type": "code",
   "execution_count": null,
   "metadata": {},
   "outputs": [],
   "source": []
  }
 ],
 "metadata": {
  "kernelspec": {
   "display_name": "Python 3",
   "language": "python",
   "name": "python3"
  },
  "language_info": {
   "codemirror_mode": {
    "name": "ipython",
    "version": 3
   },
   "file_extension": ".py",
   "mimetype": "text/x-python",
   "name": "python",
   "nbconvert_exporter": "python",
   "pygments_lexer": "ipython3",
   "version": "3.8.3"
  }
 },
 "nbformat": 4,
 "nbformat_minor": 4
}
