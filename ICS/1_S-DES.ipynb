{
 "cells": [
  {
   "cell_type": "markdown",
   "metadata": {},
   "source": [
    "#### Implementation of S-DES"
   ]
  },
  {
   "cell_type": "code",
   "execution_count": null,
   "metadata": {},
   "outputs": [],
   "source": [
    "!pip install pyDes"
   ]
  },
  {
   "cell_type": "code",
   "execution_count": 1,
   "metadata": {},
   "outputs": [
    {
     "name": "stdout",
     "output_type": "stream",
     "text": [
      "cipher text: b'\\x8e\\x06o`\\xf4\\x9c\\x07\\x01'\n",
      "plain text: b'ROhit'\n",
      "Elapsed time for 1,000 encryptions: 1.073s\n"
     ]
    }
   ],
   "source": [
    "import pyDes\n",
    "from time import time\n",
    "\n",
    "# For Python3, you'll need to use bytes, i.e.:\n",
    "#key  -> Bytes containing the encryption key. 8 bytes for DES, 16 or 24 bytes\n",
    "#\t for Triple DES\n",
    "#mode -> Optional argument for encryption type, can be either pyDes.ECB\n",
    "#\t(Electronic Code Book), pyDes.CBC (Cypher Block Chaining)\n",
    "#IV   -> Optional Initial Value bytes, must be supplied if using CBC mode.\n",
    "#\t Must be 8 bytes in length.\n",
    "#pad  -> Optional argument, set the pad character (PAD_NORMAL) to use\n",
    "#\t during all encrypt/decrypt operations done with this instance.\n",
    "#padmode -> Optional argument, set the padding mode (PAD_NORMAL or\n",
    "#\t PAD_PKCS5) to use during all encrypt/decrypt operations done\n",
    "#\t with this instance.\n",
    "data = input(\"Please enter plain text for encryption:\")\n",
    "keystring=input(\"Enter 16/24 byte string for key generation:\")\n",
    "k = pyDes.triple_des(keystring, padmode=pyDes.PAD_PKCS5)\n",
    "e = k.encrypt(data)\n",
    "print (\"cipher text: %r\" % e)\n",
    "#%r to be useful for printing a string of unknown encoding\n",
    "print (\"plain text: %r\" % k.decrypt(e))\n",
    "t1 = time()\n",
    "for i in range(1000):\n",
    "     e = k.encrypt(data)\n",
    "t2 = time()\n",
    "print(\"Elapsed time for 1,000 encryptions: {:0.3f}s\".format(t2 - t1))\n",
    "\n"
   ]
  }
 ],
 "metadata": {
  "interpreter": {
   "hash": "2244db3f96108e7e529fc307f5a6c095e38af493586062ec225e86c1243e2203"
  },
  "kernelspec": {
   "display_name": "Python 3.10.1 64-bit",
   "language": "python",
   "name": "python3"
  },
  "language_info": {
   "codemirror_mode": {
    "name": "ipython",
    "version": 3
   },
   "file_extension": ".py",
   "mimetype": "text/x-python",
   "name": "python",
   "nbconvert_exporter": "python",
   "pygments_lexer": "ipython3",
   "version": "3.10.1"
  }
 },
 "nbformat": 4,
 "nbformat_minor": 4
}
