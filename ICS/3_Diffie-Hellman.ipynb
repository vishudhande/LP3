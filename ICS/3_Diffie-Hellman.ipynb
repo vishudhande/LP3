{
 "cells": [
  {
   "cell_type": "markdown",
   "metadata": {},
   "source": [
    "#### Implementation of Diffie-Hellman key exchange"
   ]
  },
  {
   "cell_type": "code",
   "execution_count": 1,
   "metadata": {},
   "outputs": [],
   "source": [
    "from random import getrandbits"
   ]
  },
  {
   "cell_type": "code",
   "execution_count": 3,
   "metadata": {},
   "outputs": [
    {
     "name": "stdout",
     "output_type": "stream",
     "text": [
      "Shared secrets match:  2071\n"
     ]
    }
   ],
   "source": [
    "g = 5\n",
    "prime = 7919\n",
    "bits = 32\n",
    "\n",
    "# Generate Alice's secret and public keys (a,A)\n",
    "a = getrandbits(bits)\n",
    "A = pow(g, a, prime)\n",
    "\n",
    "# Generate Bob's secret and public keys (b,B)\n",
    "b = getrandbits(bits)\n",
    "B = pow(g, b, prime)\n",
    "\n",
    "# Generate the shared secrets\n",
    "s1 = pow(A, b, prime)\n",
    "s2 = pow(B, a, prime)\n",
    "\n",
    "if(s1 == s2):\n",
    "    print(\"Shared secrets match: \", s1)"
   ]
  },
  {
   "cell_type": "code",
   "execution_count": null,
   "metadata": {},
   "outputs": [],
   "source": []
  }
 ],
 "metadata": {
  "kernelspec": {
   "display_name": "Python 3",
   "language": "python",
   "name": "python3"
  },
  "language_info": {
   "codemirror_mode": {
    "name": "ipython",
    "version": 3
   },
   "file_extension": ".py",
   "mimetype": "text/x-python",
   "name": "python",
   "nbconvert_exporter": "python",
   "pygments_lexer": "ipython3",
   "version": "3.8.3"
  }
 },
 "nbformat": 4,
 "nbformat_minor": 4
}
